{
 "cells": [
  {
   "cell_type": "markdown",
   "metadata": {},
   "source": [
    "# python은 맨 밑에  ErrorMessage가 있다\n",
    "\n",
    "\n",
    "\n",
    "\n"
   ]
  },
  {
   "cell_type": "markdown",
   "metadata": {},
   "source": [
    "# String 표현방법 \n",
    "## : \"\" 또는 '' (홀따옴표를 사용하기 위해서 쌍따옴표가 존재한다)\n",
    "\n",
    "1+'문자' -> error   \n",
    "\n",
    "'1'+'2' -> '12'\n",
    "\n",
    "int('12') -> 12"
   ]
  },
  {
   "cell_type": "code",
   "execution_count": 36,
   "metadata": {},
   "outputs": [
    {
     "name": "stdout",
     "output_type": "stream",
     "text": [
      "H\n",
      "e\n",
      "l\n",
      "=======\n",
      "d\n",
      "l\n",
      "=======\n",
      "Hell\n",
      "=======\n",
      "False\n",
      "True\n"
     ]
    }
   ],
   "source": [
    "message = \"Hello world\"\n",
    "print(message[0]) \n",
    "print(message[1]) \n",
    "print(message[2]) \n",
    "print('=======')\n",
    "# 뒤에서부터 접근하기\n",
    "print(message[-1]) # 맨끝\n",
    "print(message[-2]) # \n",
    "print('=======')\n",
    "print(message[0:4])\n",
    "print('=======')\n",
    "print(\"h\" in message)\n",
    "print(\"H\" in message)\n"
   ]
  },
  {
   "cell_type": "code",
   "execution_count": 56,
   "metadata": {},
   "outputs": [
    {
     "name": "stdout",
     "output_type": "stream",
     "text": [
      "['Hello', 'world']\n",
      "['Hell', ' w', 'rld']\n"
     ]
    }
   ],
   "source": [
    "print(message.split()) # \" \" space\n",
    "print(message.split(\"o\"))\n"
   ]
  },
  {
   "cell_type": "markdown",
   "metadata": {},
   "source": [
    "## 리스트\n"
   ]
  },
  {
   "cell_type": "code",
   "execution_count": 50,
   "metadata": {},
   "outputs": [
    {
     "name": "stdout",
     "output_type": "stream",
     "text": [
      "[1, 2, 3, 4, 5]\n",
      "1\n",
      "2\n",
      "5\n",
      "4\n",
      "[1, 2, 3, 4]\n",
      "True\n",
      "False\n"
     ]
    },
    {
     "data": {
      "text/plain": [
       "[1, 2, 3, 4, 5, 11]"
      ]
     },
     "execution_count": 50,
     "metadata": {},
     "output_type": "execute_result"
    }
   ],
   "source": [
    "odd =[1,2,3,4,5]\n",
    "print(odd)\n",
    "\n",
    "print(odd[0])\n",
    "print(odd[1])\n",
    "print(odd[-1])\n",
    "print(odd[-2])\n",
    "\n",
    "print(odd[0:4])\n",
    "\n",
    "print(1 in odd)\n",
    "print(6 in odd)\n",
    "\n",
    "odd.append(11) # 반복실행하면 계속 11추가됨\n",
    "odd"
   ]
  },
  {
   "cell_type": "code",
   "execution_count": 51,
   "metadata": {},
   "outputs": [
    {
     "data": {
      "text/plain": [
       "[1, 2, 3, 4, 5, 11, 11, 22, 33]"
      ]
     },
     "execution_count": 51,
     "metadata": {},
     "output_type": "execute_result"
    }
   ],
   "source": [
    "odd = odd + [11,22,33]\n",
    "odd"
   ]
  },
  {
   "cell_type": "code",
   "execution_count": 55,
   "metadata": {},
   "outputs": [
    {
     "data": {
      "text/plain": [
       "[1, 2, 3, -1, 5, -2, 11, 22, 33]"
      ]
     },
     "execution_count": 55,
     "metadata": {},
     "output_type": "execute_result"
    }
   ],
   "source": [
    "odd[3] =-1\n",
    "odd[5] =-2\n",
    "odd"
   ]
  },
  {
   "cell_type": "code",
   "execution_count": 59,
   "metadata": {},
   "outputs": [
    {
     "name": "stdout",
     "output_type": "stream",
     "text": [
      "Hello World!\n",
      "Hello,World!\n",
      "Hello, World!\n"
     ]
    }
   ],
   "source": [
    "words=['Hello','World!']\n",
    "\n",
    "print(\" \".join(words))\n",
    "print(\",\".join(words))\n",
    "print(\", \".join(words))\n"
   ]
  },
  {
   "cell_type": "markdown",
   "metadata": {},
   "source": [
    "## 제어문"
   ]
  },
  {
   "cell_type": "code",
   "execution_count": 66,
   "metadata": {},
   "outputs": [
    {
     "name": "stdout",
     "output_type": "stream",
     "text": [
      "어른\n",
      "학생\n"
     ]
    }
   ],
   "source": [
    "age = 10\n",
    "\n",
    "if age > 5 :\n",
    "    print('어른') #IndentationError\n",
    "else:\n",
    "    print('아이')\n",
    "    \n",
    "if age < 5 :\n",
    "    print('아이') \n",
    "elif age <18:\n",
    "    print('학생')\n",
    "else:\n",
    "    print('어른')\n"
   ]
  },
  {
   "cell_type": "markdown",
   "metadata": {},
   "source": [
    "## 반복문"
   ]
  },
  {
   "cell_type": "code",
   "execution_count": 80,
   "metadata": {},
   "outputs": [
    {
     "name": "stdout",
     "output_type": "stream",
     "text": [
      "apple\n",
      "bananas\n",
      "chicken\n",
      "pineapple\n",
      "cherry\n",
      "0\n",
      "1\n",
      "2\n",
      "3\n",
      "4\n",
      "===\n",
      "1\n",
      "2\n",
      "3\n",
      "4\n",
      "5\n",
      "6\n",
      "===\n",
      "1\n",
      "3\n",
      "4\n"
     ]
    }
   ],
   "source": [
    "basket=['apple','bananas','chicken','pineapple','cherry']\n",
    "for stuff in basket:\n",
    "    print(stuff)\n",
    "    \n",
    "for i in range(5): # 0~4 :인덱스 아님 , range의 output임\n",
    "    print(i)\n",
    "print('===')\n",
    "    \n",
    "for i in range(1,7): #1~5\n",
    "    print(i)\n",
    "print('===')\n",
    "    \n",
    "for i in range(1,6): #1~5\n",
    "    if i ==2:\n",
    "        continue\n",
    "    if i ==5:\n",
    "        break\n",
    "    print(i)"
   ]
  },
  {
   "cell_type": "code",
   "execution_count": 81,
   "metadata": {},
   "outputs": [
    {
     "name": "stdout",
     "output_type": "stream",
     "text": [
      "[2, 4, 6, 8, 12, 14]\n"
     ]
    }
   ],
   "source": [
    "#한꺼번에 출력하기\n",
    "double_list = []\n",
    "for i in range(1,11):\n",
    "    if i==5:\n",
    "        continue\n",
    "    if i==8:\n",
    "        break\n",
    "    double = i *2\n",
    "    double_list.append(double)\n",
    "    \n",
    "print(double_list)\n",
    "    "
   ]
  },
  {
   "cell_type": "markdown",
   "metadata": {},
   "source": [
    "## 함수\n"
   ]
  },
  {
   "cell_type": "code",
   "execution_count": 87,
   "metadata": {},
   "outputs": [
    {
     "name": "stdout",
     "output_type": "stream",
     "text": [
      "2\n",
      "24\n"
     ]
    }
   ],
   "source": [
    "#def = define\n",
    "def multiply(a,b):\n",
    "    c=a*b\n",
    "    return c\n",
    "\n",
    "print(multiply(1,2))\n",
    "print(multiply(4,6))"
   ]
  },
  {
   "cell_type": "code",
   "execution_count": 91,
   "metadata": {},
   "outputs": [
    {
     "name": "stdout",
     "output_type": "stream",
     "text": [
      "음수\n",
      "양수\n",
      "0\n",
      "음수\n",
      "양수\n",
      "0\n"
     ]
    }
   ],
   "source": [
    "def sign(n):\n",
    "    if n>0:\n",
    "        return \"양수\"\n",
    "    elif n<0:\n",
    "        return \"음수\"\n",
    "    else:\n",
    "        return \"0\"\n",
    "\n",
    "print(sign(-1))\n",
    "print(sign(5))\n",
    "print(sign(0))\n",
    "\n",
    "for n in [-1,3,0]:\n",
    "    print(sign(n))"
   ]
  },
  {
   "cell_type": "markdown",
   "metadata": {},
   "source": [
    "##  Practice\n",
    "\n",
    "**팩토리얼 구현하기\n",
    "\n",
    "    *3! = 3*2*1 =6\n",
    "    \n",
    "    *4! = 4*3*2*1=24\n",
    "    \n",
    "    *5! = 5*4*3*2*1=120\n",
    "    "
   ]
  },
  {
   "cell_type": "code",
   "execution_count": 99,
   "metadata": {},
   "outputs": [
    {
     "name": "stdout",
     "output_type": "stream",
     "text": [
      "6\n",
      "24\n"
     ]
    }
   ],
   "source": [
    "def factorial(n):\n",
    "    result=1\n",
    "    \n",
    "    for i in range(1,n+1):\n",
    "        result = result*i\n",
    "    return result\n",
    "\n",
    "print(factorial(3))\n",
    "print(factorial(4))"
   ]
  },
  {
   "cell_type": "code",
   "execution_count": 100,
   "metadata": {},
   "outputs": [
    {
     "name": "stdout",
     "output_type": "stream",
     "text": [
      "6\n"
     ]
    }
   ],
   "source": [
    "#재귀함수 잘못하면 무한loop생길 수 있으니 안 쓰는 걸 추천한다\n",
    "def factorial(n):\n",
    "    if n ==1:\n",
    "        return 1\n",
    "    else:\n",
    "        return n*factorial(n-1)\n",
    "print(factorial(3))"
   ]
  },
  {
   "cell_type": "markdown",
   "metadata": {},
   "source": [
    "## 포메팅"
   ]
  },
  {
   "cell_type": "code",
   "execution_count": 23,
   "metadata": {},
   "outputs": [
    {
     "data": {
      "text/plain": [
       "'Bensk ate 12 bananas for 7 day'"
      ]
     },
     "execution_count": 23,
     "metadata": {},
     "output_type": "execute_result"
    }
   ],
   "source": [
    "bananas =12\n",
    "days= 7\n",
    "\"Bensk ate {0} bananas for {1} day\".format(bananas,days)"
   ]
  },
  {
   "cell_type": "code",
   "execution_count": 26,
   "metadata": {},
   "outputs": [
    {
     "data": {
      "text/plain": [
       "'Model A = 4.134 , Model B  = 4.13412'"
      ]
     },
     "execution_count": 26,
     "metadata": {},
     "output_type": "execute_result"
    }
   ],
   "source": [
    "model_a = 4.134122\n",
    "model_b = 7.351351\n",
    "\n",
    "#f = float = 소수점\n",
    "\"Model A = {0:.3f} , Model B  = {0:.5f}\".format(model_a, model_b)"
   ]
  },
  {
   "cell_type": "code",
   "execution_count": 22,
   "metadata": {},
   "outputs": [
    {
     "data": {
      "text/plain": [
       "'hellos'"
      ]
     },
     "execution_count": 22,
     "metadata": {},
     "output_type": "execute_result"
    }
   ],
   "source": [
    "\"Hellos\".lower()"
   ]
  },
  {
   "cell_type": "code",
   "execution_count": 21,
   "metadata": {},
   "outputs": [
    {
     "data": {
      "text/plain": [
       "'HELLO'"
      ]
     },
     "execution_count": 21,
     "metadata": {},
     "output_type": "execute_result"
    }
   ],
   "source": [
    "\"Hello\".upper()"
   ]
  },
  {
   "cell_type": "code",
   "execution_count": null,
   "metadata": {
    "collapsed": true
   },
   "outputs": [],
   "source": []
  },
  {
   "cell_type": "code",
   "execution_count": null,
   "metadata": {
    "collapsed": true
   },
   "outputs": [],
   "source": []
  },
  {
   "cell_type": "markdown",
   "metadata": {},
   "source": [
    "# Intro PANDAS"
   ]
  },
  {
   "cell_type": "code",
   "execution_count": 12,
   "metadata": {},
   "outputs": [
    {
     "data": {
      "text/plain": [
       "0    1.0\n",
       "1    3.0\n",
       "2    5.0\n",
       "3    NaN\n",
       "4    6.0\n",
       "5    8.0\n",
       "dtype: float64"
      ]
     },
     "execution_count": 12,
     "metadata": {},
     "output_type": "execute_result"
    }
   ],
   "source": [
    "import pandas as pd\n",
    "import numpy as np\n",
    "import matplotlib.pyplot as plt\n",
    "\n",
    "s = pd.Series([1,3,5,np.nan,6,8])\n",
    "s"
   ]
  },
  {
   "cell_type": "code",
   "execution_count": 11,
   "metadata": {},
   "outputs": [
    {
     "data": {
      "text/plain": [
       "DatetimeIndex(['2013-01-01', '2013-01-02', '2013-01-03', '2013-01-04',\n",
       "               '2013-01-05', '2013-01-06'],\n",
       "              dtype='datetime64[ns]', freq='D')"
      ]
     },
     "execution_count": 11,
     "metadata": {},
     "output_type": "execute_result"
    }
   ],
   "source": [
    "dates = pd.date_range('20130101', periods=6)\n",
    "dates"
   ]
  },
  {
   "cell_type": "code",
   "execution_count": 45,
   "metadata": {},
   "outputs": [
    {
     "data": {
      "text/html": [
       "<div>\n",
       "<style>\n",
       "    .dataframe thead tr:only-child th {\n",
       "        text-align: right;\n",
       "    }\n",
       "\n",
       "    .dataframe thead th {\n",
       "        text-align: left;\n",
       "    }\n",
       "\n",
       "    .dataframe tbody tr th {\n",
       "        vertical-align: top;\n",
       "    }\n",
       "</style>\n",
       "<table border=\"1\" class=\"dataframe\">\n",
       "  <thead>\n",
       "    <tr style=\"text-align: right;\">\n",
       "      <th></th>\n",
       "      <th>A</th>\n",
       "      <th>B</th>\n",
       "      <th>C</th>\n",
       "      <th>D</th>\n",
       "    </tr>\n",
       "  </thead>\n",
       "  <tbody>\n",
       "    <tr>\n",
       "      <th>2013-01-01</th>\n",
       "      <td>-0.986983</td>\n",
       "      <td>1.154394</td>\n",
       "      <td>-0.526727</td>\n",
       "      <td>-0.338643</td>\n",
       "    </tr>\n",
       "    <tr>\n",
       "      <th>2013-01-02</th>\n",
       "      <td>-0.277973</td>\n",
       "      <td>-0.329866</td>\n",
       "      <td>2.239490</td>\n",
       "      <td>-0.451034</td>\n",
       "    </tr>\n",
       "    <tr>\n",
       "      <th>2013-01-03</th>\n",
       "      <td>-0.587980</td>\n",
       "      <td>-0.734078</td>\n",
       "      <td>-0.604895</td>\n",
       "      <td>-0.003935</td>\n",
       "    </tr>\n",
       "    <tr>\n",
       "      <th>2013-01-04</th>\n",
       "      <td>1.064174</td>\n",
       "      <td>0.367247</td>\n",
       "      <td>0.431248</td>\n",
       "      <td>-0.879047</td>\n",
       "    </tr>\n",
       "    <tr>\n",
       "      <th>2013-01-05</th>\n",
       "      <td>0.544461</td>\n",
       "      <td>-0.771701</td>\n",
       "      <td>0.561868</td>\n",
       "      <td>0.926840</td>\n",
       "    </tr>\n",
       "    <tr>\n",
       "      <th>2013-01-06</th>\n",
       "      <td>1.976462</td>\n",
       "      <td>-1.068734</td>\n",
       "      <td>-0.549930</td>\n",
       "      <td>-0.625850</td>\n",
       "    </tr>\n",
       "  </tbody>\n",
       "</table>\n",
       "</div>"
      ],
      "text/plain": [
       "                   A         B         C         D\n",
       "2013-01-01 -0.986983  1.154394 -0.526727 -0.338643\n",
       "2013-01-02 -0.277973 -0.329866  2.239490 -0.451034\n",
       "2013-01-03 -0.587980 -0.734078 -0.604895 -0.003935\n",
       "2013-01-04  1.064174  0.367247  0.431248 -0.879047\n",
       "2013-01-05  0.544461 -0.771701  0.561868  0.926840\n",
       "2013-01-06  1.976462 -1.068734 -0.549930 -0.625850"
      ]
     },
     "execution_count": 45,
     "metadata": {},
     "output_type": "execute_result"
    }
   ],
   "source": [
    "df = pd.DataFrame(np.random.randn(6,4), index=dates, columns=list('ABCD')) # row =6, col = 4\n",
    "df"
   ]
  },
  {
   "cell_type": "code",
   "execution_count": 96,
   "metadata": {},
   "outputs": [
    {
     "data": {
      "text/plain": [
       "A           float64\n",
       "B    datetime64[ns]\n",
       "C           float32\n",
       "D             int32\n",
       "E          category\n",
       "F            object\n",
       "dtype: object"
      ]
     },
     "execution_count": 96,
     "metadata": {},
     "output_type": "execute_result"
    }
   ],
   "source": [
    "pd.Timestamp('20130102') #Timestamp('2013-01-02 00:00:00')\n",
    "pd.Series(1,index=list(range(4)),dtype='float32') \n",
    "np.array([3] * 4,dtype='int32') # [3, 3, 3, 3]\n",
    "pd.Categorical([\"test\",\"train\",\"test\",\"train\"]) #[test, train, test, train]  , Categories (2, object): [test, train]\n",
    "\n",
    "df2 = pd.DataFrame({ 'A' : 1.,\n",
    "                     'B' : pd.Timestamp('20130102'),\n",
    "                     'C' : pd.Series(1,index=list(range(4)),dtype='float32'),\n",
    "                     'D' : np.array([3] * 4,dtype='int32'),\n",
    "                     'E' : pd.Categorical([\"test\",\"train\",\"test\",\"train\"]),\n",
    "                     'F' : 'foo'\n",
    "                   })\n",
    "df2.dtypes\n",
    " "
   ]
  },
  {
   "cell_type": "code",
   "execution_count": 86,
   "metadata": {},
   "outputs": [
    {
     "data": {
      "text/html": [
       "<div>\n",
       "<style>\n",
       "    .dataframe thead tr:only-child th {\n",
       "        text-align: right;\n",
       "    }\n",
       "\n",
       "    .dataframe thead th {\n",
       "        text-align: left;\n",
       "    }\n",
       "\n",
       "    .dataframe tbody tr th {\n",
       "        vertical-align: top;\n",
       "    }\n",
       "</style>\n",
       "<table border=\"1\" class=\"dataframe\">\n",
       "  <thead>\n",
       "    <tr style=\"text-align: right;\">\n",
       "      <th></th>\n",
       "      <th>A</th>\n",
       "      <th>B</th>\n",
       "      <th>D</th>\n",
       "      <th>F</th>\n",
       "    </tr>\n",
       "  </thead>\n",
       "  <tbody>\n",
       "    <tr>\n",
       "      <th>0</th>\n",
       "      <td>1.0</td>\n",
       "      <td>2013-01-02</td>\n",
       "      <td>3</td>\n",
       "      <td>foo</td>\n",
       "    </tr>\n",
       "    <tr>\n",
       "      <th>1</th>\n",
       "      <td>1.0</td>\n",
       "      <td>2013-01-02</td>\n",
       "      <td>3</td>\n",
       "      <td>foo</td>\n",
       "    </tr>\n",
       "    <tr>\n",
       "      <th>2</th>\n",
       "      <td>1.0</td>\n",
       "      <td>2013-01-02</td>\n",
       "      <td>3</td>\n",
       "      <td>foo</td>\n",
       "    </tr>\n",
       "    <tr>\n",
       "      <th>3</th>\n",
       "      <td>1.0</td>\n",
       "      <td>2013-01-02</td>\n",
       "      <td>3</td>\n",
       "      <td>foo</td>\n",
       "    </tr>\n",
       "  </tbody>\n",
       "</table>\n",
       "</div>"
      ],
      "text/plain": [
       "     A          B  D    F\n",
       "0  1.0 2013-01-02  3  foo\n",
       "1  1.0 2013-01-02  3  foo\n",
       "2  1.0 2013-01-02  3  foo\n",
       "3  1.0 2013-01-02  3  foo"
      ]
     },
     "execution_count": 86,
     "metadata": {},
     "output_type": "execute_result"
    }
   ],
   "source": [
    "# dataframe은 index가 없으면 안되나? array, series, category는 기본 index가 있다\n",
    "\n",
    "#df3=pd.DataFrame({ 'bananas':1, 'apple':2 }) #valueError : If using all scalar values, you must pass an index\n",
    "\n",
    "df4 = pd.DataFrame({ 'A' : 1.,\n",
    "                     'B' : pd.Timestamp('20130102'),\n",
    "                   #  'C' : pd.Series(1,index=list(range(4)),dtype='float32'),\n",
    "                     'D' : np.array([3] * 4,dtype='int32'),\n",
    "                   #  'E' : pd.Categorical([\"test\",\"train\",\"test\",\"train\"]),\n",
    "                     'F' : 'foo' })\n",
    "df4"
   ]
  },
  {
   "cell_type": "code",
   "execution_count": null,
   "metadata": {
    "collapsed": true
   },
   "outputs": [],
   "source": []
  }
 ],
 "metadata": {
  "kernelspec": {
   "display_name": "Python 3",
   "language": "python",
   "name": "python3"
  },
  "language_info": {
   "codemirror_mode": {
    "name": "ipython",
    "version": 3
   },
   "file_extension": ".py",
   "mimetype": "text/x-python",
   "name": "python",
   "nbconvert_exporter": "python",
   "pygments_lexer": "ipython3",
   "version": "3.6.2"
  }
 },
 "nbformat": 4,
 "nbformat_minor": 2
}

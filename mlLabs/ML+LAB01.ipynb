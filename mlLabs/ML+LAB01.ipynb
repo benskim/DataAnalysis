{
 "cells": [
  {
   "cell_type": "code",
   "execution_count": 5,
   "metadata": {},
   "outputs": [
    {
     "name": "stdout",
     "output_type": "stream",
     "text": [
      "b'Hello, Tenserflow!'\n"
     ]
    }
   ],
   "source": [
    "import tensorflow as tf\n",
    "#CREATE A CONSTANT OP\n",
    "#THIS OP IS ADDED AS a node to the default graph\n",
    "hello=tf.constant(\"Hello, Tenserflow!\")\n",
    "\n",
    "#\n",
    "sess = tf.Session() \n",
    "print(sess.run(hello))"
   ]
  },
  {
   "cell_type": "code",
   "execution_count": 7,
   "metadata": {},
   "outputs": [
    {
     "name": "stdout",
     "output_type": "stream",
     "text": [
      "node1: Tensor(\"Const_5:0\", shape=(), dtype=float32) node2: Tensor(\"Const_6:0\", shape=(), dtype=float32)\n",
      "node3: Tensor(\"Add_1:0\", shape=(), dtype=float32)\n"
     ]
    }
   ],
   "source": [
    "node1= tf.constant(3.0,tf.float32)\n",
    "node2= tf.constant(4.0)\n",
    "node3 = tf.add(node1,node2)\n",
    "print (\"node1:\",node1,\"node2:\",node2)\n",
    "print (\"node3:\",node3) # no value of access "
   ]
  },
  {
   "cell_type": "code",
   "execution_count": 11,
   "metadata": {},
   "outputs": [
    {
     "name": "stdout",
     "output_type": "stream",
     "text": [
      "sess.run(node1,node2): [3.0, 4.0]\n",
      "sess.run(node3): 7.0\n"
     ]
    }
   ],
   "source": [
    "sess=tf.Session() #session : value\n",
    "print(\"sess.run(node1,node2):\",sess.run([node1,node2]))\n",
    "print(\"sess.run(node3):\",sess.run(node3))"
   ]
  },
  {
   "cell_type": "code",
   "execution_count": 14,
   "metadata": {},
   "outputs": [
    {
     "name": "stdout",
     "output_type": "stream",
     "text": [
      "7.5\n",
      "[ 3.  7.]\n"
     ]
    }
   ],
   "source": [
    "a=tf.placeholder(tf.float32)\n",
    "b=tf.placeholder(tf.float32) #메모리생성\n",
    "adder_node = a+b\n",
    "print(sess.run(adder_node,feed_dict={a:3,b:4.5}))\n",
    "print(sess.run(adder_node,feed_dict={a:[1,3], b:[2,4]}))# 1+2, 3+4"
   ]
  },
  {
   "cell_type": "code",
   "execution_count": null,
   "metadata": {
    "collapsed": true
   },
   "outputs": [],
   "source": [
    "#rank - 차원\n",
    "'''\n",
    "scalar  ~ vector     ~ matrix        ~ 3-Tensor ~ n-Tensor\n",
    "34        [1,2]   [[1,2],[3,4]]\n",
    "'''\n",
    "#shape -배열의 원소개수\n",
    "#type - float32 자료형을 많이 씀\n",
    "\n",
    "#tensor\n",
    "'''\n",
    "그래프를 만든다.\n",
    "그래프에 값을 넣어준다\n",
    "결과물을 얻는다.\n",
    "\n",
    "'''\n"
   ]
  }
 ],
 "metadata": {
  "kernelspec": {
   "display_name": "Python 3",
   "language": "python",
   "name": "python3"
  },
  "language_info": {
   "codemirror_mode": {
    "name": "ipython",
    "version": 3
   },
   "file_extension": ".py",
   "mimetype": "text/x-python",
   "name": "python",
   "nbconvert_exporter": "python",
   "pygments_lexer": "ipython3",
   "version": "3.6.2"
  }
 },
 "nbformat": 4,
 "nbformat_minor": 2
}
